{
 "cells": [
  {
   "cell_type": "code",
   "execution_count": 1,
   "metadata": {},
   "outputs": [],
   "source": [
    "import yfinance as yf\n",
    "import pandas as pd\n",
    "import matplotlib.pyplot as plt"
   ]
  },
  {
   "cell_type": "code",
   "execution_count": 6,
   "metadata": {},
   "outputs": [
    {
     "name": "stderr",
     "output_type": "stream",
     "text": [
      "[*********************100%***********************]  1 of 1 completed"
     ]
    },
    {
     "name": "stdout",
     "output_type": "stream",
     "text": [
      "Price                           Close        High         Low        Open  \\\n",
      "Ticker                           AAPL        AAPL        AAPL        AAPL   \n",
      "Datetime                                                                    \n",
      "2025-02-24 20:56:00+00:00  247.207397  247.360001  247.110001  247.270004   \n",
      "2025-02-24 20:57:00+00:00  247.190002  247.300003  247.149994  247.199997   \n",
      "2025-02-24 20:58:00+00:00  247.270004  247.339996  247.139999  247.190002   \n",
      "2025-02-24 20:59:00+00:00  247.229996  247.339996  247.020004  247.270004   \n",
      "2025-02-25 14:30:00+00:00  249.410004  249.449905  247.869995  248.000000   \n",
      "2025-02-25 14:31:00+00:00  248.589996  249.520004  248.440002  249.400101   \n",
      "2025-02-25 14:32:00+00:00  248.285004  248.740005  247.880005  248.595001   \n",
      "2025-02-25 14:33:00+00:00  248.310104  248.600006  248.050003  248.380005   \n",
      "2025-02-25 14:34:00+00:00  247.999298  248.330002  247.899994  248.309998   \n",
      "2025-02-25 14:35:00+00:00  247.699997  247.699997  247.699997  247.699997   \n",
      "\n",
      "Price                       Volume  \n",
      "Ticker                        AAPL  \n",
      "Datetime                            \n",
      "2025-02-24 20:56:00+00:00   262816  \n",
      "2025-02-24 20:57:00+00:00   346859  \n",
      "2025-02-24 20:58:00+00:00   503357  \n",
      "2025-02-24 20:59:00+00:00  1282045  \n",
      "2025-02-25 14:30:00+00:00  3768674  \n",
      "2025-02-25 14:31:00+00:00   341338  \n",
      "2025-02-25 14:32:00+00:00   230397  \n",
      "2025-02-25 14:33:00+00:00   170801  \n",
      "2025-02-25 14:34:00+00:00   140997  \n",
      "2025-02-25 14:35:00+00:00        0  \n"
     ]
    },
    {
     "name": "stderr",
     "output_type": "stream",
     "text": [
      "\n"
     ]
    }
   ],
   "source": [
    "# Fetch 1 year of historical data for Apple\n",
    "df = yf.download(\"AAPL\", period=\"8d\", interval=\"1m\")\n",
    "\n",
    "print(df.tail(10))\n"
   ]
  }
 ],
 "metadata": {
  "kernelspec": {
   "display_name": "venv",
   "language": "python",
   "name": "python3"
  },
  "language_info": {
   "codemirror_mode": {
    "name": "ipython",
    "version": 3
   },
   "file_extension": ".py",
   "mimetype": "text/x-python",
   "name": "python",
   "nbconvert_exporter": "python",
   "pygments_lexer": "ipython3",
   "version": "3.10.12"
  }
 },
 "nbformat": 4,
 "nbformat_minor": 2
}
